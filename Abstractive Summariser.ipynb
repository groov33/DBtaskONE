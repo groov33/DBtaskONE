{
 "cells": [
  {
   "cell_type": "code",
   "execution_count": 1,
   "metadata": {},
   "outputs": [
    {
     "name": "stdout",
     "output_type": "stream",
     "text": [
      "Transcript fetched successfully!\n",
      "Here's the starting bit of the transcript: [Music] the Constitution of India is the supreme law of the land the longest written constitution of ...\n"
     ]
    },
    {
     "name": "stderr",
     "output_type": "stream",
     "text": [
      "c:\\Users\\reala\\AppData\\Local\\Programs\\Python\\Python312\\Lib\\site-packages\\huggingface_hub\\file_download.py:1132: FutureWarning: `resume_download` is deprecated and will be removed in version 1.0.0. Downloads always resume when possible. If you want to force a new download, use `force_download=True`.\n",
      "  warnings.warn(\n"
     ]
    },
    {
     "name": "stdout",
     "output_type": "stream",
     "text": [
      "Final Summary:\n",
      "the Constitution of India is the supreme law of the land it took the Constituent Assembly a little less than three years to draft this monumental document. the nation recognizes justice liberty and equality as basic principles of a citizens lives and seeks to promote fraternity among them. all adult citizens have the right to vote without any discrimination on any grounds making universal adult franchise a hallmark of a democratic system. fundamental rights are essential for leading a dignified existence and are legally enforceable in courts of law. multiple amendments have been made to it over the years to accommodate emerging needs and challenges. it is incumbent upon me the people of india who have adopted and enacted this document as the cornerstone of our democracy. it is incumbent upon me the people of india who have adopted and enacted this document as the cornerstone of our democracy. it is incumbent upon me the people of india who have adopted and enacted this document as the cornerstone of our democracy.\n"
     ]
    }
   ],
   "source": [
    "# mgWv-ezYxgU\n",
    "from youtube_transcript_api import YouTubeTranscriptApi\n",
    "\n",
    "#We need to fetch transcript through API so:\n",
    "def FetchSubs(videoID):\n",
    "    try:\n",
    "        transcript=YouTubeTranscriptApi.get_transcript(videoID)\n",
    "        text=\" \".join(entry['text'] for entry in transcript) \n",
    "        return text\n",
    "    except Exception as e:\n",
    "        print(f\"Error: {e}\")\n",
    "        return None\n",
    "\n",
    "videoID=input(\"Enter Video ID: \")\n",
    "transcript=FetchSubs(f\"{videoID}\")\n",
    "if transcript:\n",
    "    print(\"Transcript fetched successfully!\")\n",
    "    print(f\"Here's the starting bit of the transcript: {transcript[:100]} ...\") \n",
    "\n",
    "# Import necessary libraries\n",
    "from transformers import AutoTokenizer, AutoModelForSeq2SeqLM\n",
    "\n",
    "# Initialize the tokenizer and model\n",
    "tokenizer = AutoTokenizer.from_pretrained('t5-base')\n",
    "model = AutoModelForSeq2SeqLM.from_pretrained('t5-base')\n",
    "\n",
    "# Split the transcript into smaller chunks\n",
    "max_chunk_size = 2048  # Based on tokenizer's max length\n",
    "chunks = [transcript[i:i + max_chunk_size] for i in range(0, len(transcript), max_chunk_size)]\n",
    "\n",
    "# Summarize each chunk\n",
    "summaries = []\n",
    "for chunk in chunks:\n",
    "    inputs = tokenizer(\"summarize: \" + chunk, return_tensors='pt', max_length=max_chunk_size, truncation=True)\n",
    "    summary_ids = model.generate(inputs['input_ids'], max_length=150, min_length=50, length_penalty=2.0, num_beams=4)\n",
    "    summaries.append(tokenizer.decode(summary_ids[0], skip_special_tokens=True))\n",
    "\n",
    "# Combine all summaries\n",
    "final_summary = \" \".join(summaries)\n",
    "\n",
    "# Output the final summary\n",
    "print(\"Final Summary:\")\n",
    "print(final_summary)"
   ]
  }
 ],
 "metadata": {
  "kernelspec": {
   "display_name": "Python 3",
   "language": "python",
   "name": "python3"
  },
  "language_info": {
   "codemirror_mode": {
    "name": "ipython",
    "version": 3
   },
   "file_extension": ".py",
   "mimetype": "text/x-python",
   "name": "python",
   "nbconvert_exporter": "python",
   "pygments_lexer": "ipython3",
   "version": "3.12.4"
  }
 },
 "nbformat": 4,
 "nbformat_minor": 2
}
